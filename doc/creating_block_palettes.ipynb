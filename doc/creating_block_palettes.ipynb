{
 "cells": [
  {
   "cell_type": "markdown",
   "id": "3cfaed97",
   "metadata": {},
   "source": [
    "# Creating Block Palettes with Glasbey\n",
    "\n",
    "It is often useful to group categories together into groups and create a colour palette such that each group has different shades of a given colour, and distinct groups have shades of distinct colours. This can be done by gluing together discrtizations of continuous linear palettes -- but that still leaves the problem of selecting distinct linear palettes. The ``glasbey`` library provides a an easy way to create such palettes, using techniques from the paper [*Colour Displays for Categorical Images*](http://onlinelibrary.wiley.com/doi/10.1002/col.20327/abstract) by Glasbey, Heijden, Toh and Gray to provide visual distinctiveness between blocks. To demonstrate this in action we'll need to import the ``glasbey`` library, and to visualize the palettes we create we will use seaborn."
   ]
  },
  {
   "cell_type": "code",
   "execution_count": 1,
   "id": "00304c6e",
   "metadata": {},
   "outputs": [],
   "source": [
    "import glasbey\n",
    "import seaborn as sns\n",
    "\n",
    "sns.set()"
   ]
  },
  {
   "cell_type": "markdown",
   "id": "2a154587",
   "metadata": {},
   "source": [
    "To create a palette with blocks such that each block is built around a main colour, and distinct blocks have visually distinct colours we can call the ``create_block_palette`` function. The function has a single mandatory argument: a list of block sizes. For example, to create a block palette of twelve total colours in three blocks where each block has four colours we would call ``create_block_palette`` as follows:`"
   ]
  },
  {
   "cell_type": "code",
   "execution_count": 2,
   "id": "c4a68b05",
   "metadata": {},
   "outputs": [
    {
     "data": {
      "text/plain": [
       "['#5d0004',\n",
       " '#ae1414',\n",
       " '#f35931',\n",
       " '#fba64d',\n",
       " '#00049a',\n",
       " '#0c4deb',\n",
       " '#4d96f7',\n",
       " '#9ad7fb',\n",
       " '#1c2808',\n",
       " '#005900',\n",
       " '#418e0c',\n",
       " '#96ce00']"
      ]
     },
     "execution_count": 2,
     "metadata": {},
     "output_type": "execute_result"
    }
   ],
   "source": [
    "glasbey.create_block_palette([4, 4, 4])"
   ]
  },
  {
   "cell_type": "markdown",
   "id": "355540c9",
   "metadata": {},
   "source": [
    "To see what this looks like we can visualize the resulting palette using seaborn's ``palplot`` function."
   ]
  },
  {
   "cell_type": "code",
   "execution_count": 3,
   "id": "d33101b9",
   "metadata": {},
   "outputs": [
    {
     "data": {
      "image/png": "[encoded data removed]",
      "text/plain": [
       "<Figure size 1200x100 with 1 Axes>"
      ]
     },
     "metadata": {},
     "output_type": "display_data"
    }
   ],
   "source": [
    "sns.palplot(glasbey.create_block_palette([4, 4, 4], optimize_palette=True))"
   ]
  },
  {
   "cell_type": "markdown",
   "id": "2a8f98e9",
   "metadata": {},
   "source": [
    "An example of where such a palette might be useful is the well-known [20-newsgroups dataset](https://scikit-learn.org/0.19/datasets/twenty_newsgroups.html), a classic dataset for NLP problems. The dataset collects messages from twenty different newsgroups, with the usla problem being that of successfully predicting the newsgroup of messages. Visualizing the dataset is quite common (see [here](https://topometry.readthedocs.io/en/latest/20Newsgroups_Tutorial.html) and [here](https://umap-learn.readthedocs.io/en/latest/document_embedding.html) and [here](https://vectorizers.readthedocs.io/en/latest/document_vectorization.html) for some examples). The first problem is that it is rare to find palettes with 20 distinct colours. The second catch is that the newsgroups themselves have somewhat overlapping topics. We can group them as follows:\n",
    "\n",
    "\n",
    "**Computers**:\n",
    " * comp.graphics\n",
    " * comp.os.ms-windows.misc\n",
    " * comp.sys.ibm.pc.hardware\n",
    " * comp.sys.mac.hardware\n",
    " * comp.windows.x\n",
    "\n",
    "**Science**:\n",
    " * sci.crypt\n",
    " * sci.electronics\n",
    " * sci.med\n",
    " * sci.space\n",
    "\n",
    "**Politics**:\n",
    " * talk.politics.guns\n",
    " * talk.politics.mideast\n",
    " * talk.politics.misc\n",
    "\n",
    "**Religion**:\n",
    " * alt.atheism\n",
    " * soc.religion.christian\n",
    " * talk.religion.misc\n",
    "\n",
    "**Sports**:\n",
    " * rec.sports.baseball\n",
    " * rec.sports.hockey\n",
    "\n",
    "**Cars and motorcycles**:\n",
    " * rec.autos\n",
    " * rec.motorcycles\n",
    "\n",
    "**For Sale**:\n",
    " * misc.forsale\n",
    "\n",
    "Ideally we would have a main colour for each group, and distinguish by variations of that colour within each group. The result would be a palette with blocks of various sizes etc. The ``create_block_palette`` is ideal for this as we simply hand it the various sizes of blocks we will need, and can then map the different newsgroups to colours in the relevant blocks. An example block palette for 20-newsgroups might be as follows:"
   ]
  },
  {
   "cell_type": "code",
   "execution_count": 4,
   "id": "5f16a188",
   "metadata": {},
   "outputs": [
    {
     "data": {
      "image/png": "[encoded data removed]",
      "text/plain": [
       "<Figure size 2000x100 with 1 Axes>"
      ]
     },
     "metadata": {},
     "output_type": "display_data"
    }
   ],
   "source": [
    "sns.palplot(glasbey.create_block_palette([5, 4, 3, 3, 2, 2, 1]))"
   ]
  },
  {
   "cell_type": "markdown",
   "id": "41bf212b",
   "metadata": {},
   "source": [
    "As with the other ``glasbey`` functions there are a number of options to tweak and fine-tune  the aesthetic with bounds on lightness, hue and chroma. This makes it easy to tweak the created palette to meet your exact aesthetic needs realtively quickly and easily."
   ]
  },
  {
   "cell_type": "code",
   "execution_count": 5,
   "id": "fad975bc",
   "metadata": {},
   "outputs": [
    {
     "data": {
      "image/png": "[encoded data removed]",
      "text/plain": [
       "<Figure size 2000x100 with 1 Axes>"
      ]
     },
     "metadata": {},
     "output_type": "display_data"
    }
   ],
   "source": [
    "sns.palplot(\n",
    "    glasbey.create_block_palette(\n",
    "        [5, 4, 3, 3, 2, 2, 1], \n",
    "        lightness_bounds=(15, 90),\n",
    "        chroma_bounds=(0, 40)\n",
    "    )\n",
    ")"
   ]
  },
  {
   "cell_type": "markdown",
   "id": "9d31c9ae",
   "metadata": {},
   "source": [
    "It is worth noting that strict bounds, particularly on lightness, can make it hard for the optimizer to successfully choose colours in thematiuc ranges, resulting in bizarre colour choices -- if that happens consider opening up the bounds somewhat to allow more options for the optimizer.\n",
    "\n",
    "Another example of a good use case can be seen in the palette \"Paired\" from ColorBrewer. This is a popular palette, not least because it has twelve colours (more than many other pre-defined palettes) -- it also pairs up colours, with one light and one dark version of each colour in the palette... "
   ]
  },
  {
   "cell_type": "code",
   "execution_count": 6,
   "id": "c613b341",
   "metadata": {},
   "outputs": [
    {
     "data": {
      "image/png": "[encoded data removed]",
      "text/plain": [
       "<Figure size 1200x100 with 1 Axes>"
      ]
     },
     "metadata": {},
     "output_type": "display_data"
    }
   ],
   "source": [
    "sns.palplot(sns.color_palette(\"Paired\", 12))"
   ]
  },
  {
   "cell_type": "markdown",
   "id": "62d999e1",
   "metadata": {},
   "source": [
    "But that's only good if you have pairs of categories. Have you ever wanted a \"Tripled\" palette? We can easily generate a twelve colour palette with triples of each hue by simply specifying blocks of three (and we can always tweak aesthetics as above)"
   ]
  },
  {
   "cell_type": "code",
   "execution_count": 7,
   "id": "d4895fd7",
   "metadata": {},
   "outputs": [
    {
     "data": {
      "image/png": "[encoded data removed]",
      "text/plain": [
       "<Figure size 1200x100 with 1 Axes>"
      ]
     },
     "metadata": {},
     "output_type": "display_data"
    }
   ],
   "source": [
    "sns.palplot(glasbey.create_block_palette([3, 3, 3, 3]))"
   ]
  },
  {
   "cell_type": "markdown",
   "id": "7e3be304",
   "metadata": {},
   "source": [
    "But why stop at twelve? We can just as easily generate a nice looking twenty-one colour palette based around triples..."
   ]
  },
  {
   "cell_type": "code",
   "execution_count": 8,
   "id": "21cee479",
   "metadata": {},
   "outputs": [
    {
     "data": {
      "image/png": "[encoded data removed]",
      "text/plain": [
       "<Figure size 2100x100 with 1 Axes>"
      ]
     },
     "metadata": {},
     "output_type": "display_data"
    }
   ],
   "source": [
    "sns.palplot(glasbey.create_block_palette([3, 3, 3, 3, 3, 3, 3]))"
   ]
  },
  {
   "cell_type": "markdown",
   "id": "f1005c70-e2ac-4d50-a5ea-701cb6c659eb",
   "metadata": {},
   "source": [
    "## Extending block palettes\n",
    "\n",
    "Maybe you have a block palette you like (perhaps one created previously with glasbey) but now you need some extra colour blocks added to it. For example the \"tab20b\" is a  nice muted colour palette available in matplotlib, with 20 colours in blocks of length 4, but perhaps you now need 28 colours. We can use the ``extend_block_palette`` function, which works similarly to ``extend_palette`` but allows you to extend by blocks instead. So, for example, to add two more blocks of 4 to \"tab20b\" we could do the following: "
   ]
  },
  {
   "cell_type": "code",
   "execution_count": 9,
   "id": "e7c10180-e239-46dd-8c71-43af647b891d",
   "metadata": {},
   "outputs": [
    {
     "data": {
      "image/png": "[encoded data removed]",
      "text/plain": [
       "<Figure size 2800x100 with 1 Axes>"
      ]
     },
     "metadata": {},
     "output_type": "display_data"
    }
   ],
   "source": [
    "sns.palplot(glasbey.extend_block_palette(\"tab20b\", [4,4]))"
   ]
  },
  {
   "cell_type": "markdown",
   "id": "d8c87ea3-0618-4c50-8954-0e8c5ccf93f4",
   "metadata": {},
   "source": [
    "Similarly, you might be looking for some complementary semi-continuous palettes. The standard \"viridis\" palette is very nice, and you can generate, say, a nice gradient of 8 colours with it, but then you need to hunt for other continuous palettes that will be sufficiently distinct. You can, in fact, just extend an 8-colour viridis with some extra blocks, and get some new complementary gradient palettes. "
   ]
  },
  {
   "cell_type": "code",
   "execution_count": 10,
   "id": "e2aa79d5-ea3d-41e0-969b-20a1e367ac29",
   "metadata": {},
   "outputs": [
    {
     "data": {
      "image/png": "[encoded data removed]",
      "text/plain": [
       "<Figure size 2400x100 with 1 Axes>"
      ]
     },
     "metadata": {},
     "output_type": "display_data"
    }
   ],
   "source": [
    "sns.palplot(glasbey.extend_block_palette(sns.color_palette(\"viridis\", 8), [8,8]))"
   ]
  },
  {
   "cell_type": "markdown",
   "id": "fc38b0de",
   "metadata": {},
   "source": [
    "Hopefully you can already think of some potential use-cases for block palettes in your own work -- and now you have the tools to easily build and tweak them yourself... or even create them on the fly as needed."
   ]
  }
 ],
 "metadata": {
  "kernelspec": {
   "display_name": "glasbey",
   "language": "python",
   "name": "glasbey"
  },
  "language_info": {
   "codemirror_mode": {
    "name": "ipython",
    "version": 3
   },
   "file_extension": ".py",
   "mimetype": "text/x-python",
   "name": "python",
   "nbconvert_exporter": "python",
   "pygments_lexer": "ipython3",
   "version": "3.12.9"
  }
 },
 "nbformat": 4,
 "nbformat_minor": 5
}

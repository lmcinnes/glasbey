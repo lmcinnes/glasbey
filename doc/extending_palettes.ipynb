{
 "cells": [
  {
   "cell_type": "markdown",
   "id": "57dc0eca",
   "metadata": {},
   "source": [
    "# Extending Palettes with Glasbey\n",
    "\n",
    "The ``glasbey`` library allows you to extend colour palettes with extra colours for extra categories using techniques from the paper [*Colour Displays for Categorical Images*](http://onlinelibrary.wiley.com/doi/10.1002/col.20327/abstract) by Glasbey, Heijden, Toh and Gray. For a demonstration of this in action we need to import the ``glasbey`` library, and to visualize the palettes well use seaborn for convenience."
   ]
  },
  {
   "cell_type": "code",
   "execution_count": 1,
   "id": "bf3eda43",
   "metadata": {},
   "outputs": [],
   "source": [
    "import glasbey\n",
    "import seaborn as sns\n",
    "\n",
    "sns.set()"
   ]
  },
  {
   "cell_type": "markdown",
   "id": "648e59e2",
   "metadata": {},
   "source": [
    "Have you ever been working with a plot and found that you have just a few more categories than the colour palette supports, resulting in colour cycling and two categories sharing a colour? Have you ever wished you could just add a few extra colours to an existing palette without having to painstakingly pick out suitably distinct colours yourself? Help is at hand!\n",
    "\n",
    "Extending an existing palette is as easy as calling ``extend_palette``. You will need to provide a palette to be extended. For ease of use you can specify any of matplotlib's palettes (which includes many of the [ColorBrewer](https://colorbrewer2.org/#type=qualitative) palettes among others. Here we will extend the default matplotlib palette, tab10, to have fifteen colours."
   ]
  },
  {
   "cell_type": "code",
   "execution_count": 2,
   "id": "7dc0e0be",
   "metadata": {},
   "outputs": [
    {
     "data": {
      "text/plain": [
       "['#1f77b4',\n",
       " '#ff7f0e',\n",
       " '#2ca02c',\n",
       " '#d62728',\n",
       " '#9467bd',\n",
       " '#8c564b',\n",
       " '#e377c2',\n",
       " '#7f7f7f',\n",
       " '#bcbd22',\n",
       " '#17becf',\n",
       " '#a6b2ff',\n",
       " '#d7aa9e',\n",
       " '#8e7500',\n",
       " '#b20096',\n",
       " '#8eba96']"
      ]
     },
     "execution_count": 2,
     "metadata": {},
     "output_type": "execute_result"
    }
   ],
   "source": [
    "glasbey.extend_palette(\"tab10\", palette_size=15)"
   ]
  },
  {
   "cell_type": "markdown",
   "id": "a8f4c4d0",
   "metadata": {},
   "source": [
    "Staring at hex-codes is not that helpful, so let's use seaborn's ``palplot`` to plot the palette and see what we ended up with..."
   ]
  },
  {
   "cell_type": "code",
   "execution_count": 3,
   "id": "e688faa8",
   "metadata": {},
   "outputs": [
    {
     "data": {
      "image/png": "[encoded data removed]",
      "text/plain": [
       "<Figure size 1500x100 with 1 Axes>"
      ]
     },
     "metadata": {},
     "output_type": "display_data"
    }
   ],
   "source": [
    "sns.palplot(glasbey.extend_palette(\"tab10\", palette_size=15))"
   ]
  },
  {
   "cell_type": "markdown",
   "id": "48071c73",
   "metadata": {},
   "source": [
    "The result is the standard tab10, or Category10, palette but with five new colours added, and they are, indeed, fairly distinct from the existing palette, and somewhat in keeping with the style of colours used so far.\n",
    "\n",
    "Just as with ``create_palette`` we can specify specific bounds on the lightness, chroma, and hue of generated colours. This can be particularly useful if you want to tweak the generated colours to be more in line with the esiting palette. For example here is the Set1 ColorBrewer palette with four new colours where we have specifically constrained the lightness so that the new colours are more in keeping with the original palette."
   ]
  },
  {
   "cell_type": "code",
   "execution_count": 4,
   "id": "22cbe39f",
   "metadata": {},
   "outputs": [
    {
     "data": {
      "image/png": "[encoded data removed]",
      "text/plain": [
       "<Figure size 1200x100 with 1 Axes>"
      ]
     },
     "metadata": {},
     "output_type": "display_data"
    }
   ],
   "source": [
    "sns.palplot(glasbey.extend_palette(\"Set1\", palette_size=12, lightness_bounds=(30, 60)))"
   ]
  },
  {
   "cell_type": "markdown",
   "id": "e1d64a94",
   "metadata": {},
   "source": [
    "Note that if you don't specify bounds, as long as the provided palette has enough colours (at least four) then the bounds will be inferred from the provided palette (based on the min and max of lightness, chroma and hue in that palette). The inferred bounds are usually sufficient for a reasonable match, but you can specify more specific bounds yourself if needed.\n",
    "\n",
    "Extending an existing palette is useful, but there is more that can be done. It is not uncommon to want to have a categorical colour palette based around a specific colour (perhaps your company or institution colour). We can extend a palette based on a single colour just as easily ..."
   ]
  },
  {
   "cell_type": "code",
   "execution_count": 5,
   "id": "78f10919",
   "metadata": {},
   "outputs": [
    {
     "data": {
      "image/png": "[encoded data removed]",
      "text/plain": [
       "<Figure size 1200x100 with 1 Axes>"
      ]
     },
     "metadata": {},
     "output_type": "display_data"
    }
   ],
   "source": [
    "sns.palplot(glasbey.extend_palette(\"#2a3e63\", palette_size=12, lightness_bounds=(10, 40)))"
   ]
  },
  {
   "cell_type": "markdown",
   "id": "18105c05",
   "metadata": {},
   "source": [
    "With only a single colour it is not reasonable to attempt to infer bounds, so here it can be useful to play with lightness, chroma and hue bounds to get the aesthetic for the palette that you want.\n",
    "\n",
    "Of course perhaps you have a small set of colours and just want a small categorical palette built thematically around it. In this case you just need to provide a list of colours."
   ]
  },
  {
   "cell_type": "code",
   "execution_count": 6,
   "id": "2c02caa2",
   "metadata": {},
   "outputs": [
    {
     "data": {
      "image/png": "[encoded data removed]",
      "text/plain": [
       "<Figure size 800x100 with 1 Axes>"
      ]
     },
     "metadata": {},
     "output_type": "display_data"
    }
   ],
   "source": [
    "sns.palplot(glasbey.extend_palette([\"#2a3e63\", \"#7088b8\", \"#fcaf3e\", \"#b87088\"], palette_size=8))"
   ]
  },
  {
   "cell_type": "markdown",
   "id": "480aba93",
   "metadata": {},
   "source": [
    "And of course if you want to make a very large palette, extending on from an existing palette, you can simply ask for a palette as large as you need."
   ]
  },
  {
   "cell_type": "code",
   "execution_count": 7,
   "id": "2a6f920b",
   "metadata": {},
   "outputs": [
    {
     "data": {
      "image/png": "[encoded data removed]",
      "text/plain": [
       "<Figure size 3200x100 with 1 Axes>"
      ]
     },
     "metadata": {},
     "output_type": "display_data"
    }
   ],
   "source": [
    "sns.palplot(glasbey.extend_palette(\"tab10\", palette_size=32))"
   ]
  }
 ],
 "metadata": {
  "kernelspec": {
   "display_name": "glasbey",
   "language": "python",
   "name": "glasbey"
  },
  "language_info": {
   "codemirror_mode": {
    "name": "ipython",
    "version": 3
   },
   "file_extension": ".py",
   "mimetype": "text/x-python",
   "name": "python",
   "nbconvert_exporter": "python",
   "pygments_lexer": "ipython3",
   "version": "3.12.9"
  }
 },
 "nbformat": 4,
 "nbformat_minor": 5
}
